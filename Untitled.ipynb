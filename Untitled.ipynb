{
 "cells": [
  {
   "cell_type": "code",
   "execution_count": 3,
   "id": "67d140fa-f7c4-4df3-b606-64f100d5e47b",
   "metadata": {},
   "outputs": [
    {
     "name": "stdout",
     "output_type": "stream",
     "text": [
      "1.26.0\n",
      "2.0.1+cpu\n"
     ]
    }
   ],
   "source": [
    "import numpy as np\n",
    "print(np.__version__)\n",
    "import torch\n",
    "print(torch.__version__)"
   ]
  },
  {
   "cell_type": "code",
   "execution_count": 7,
   "id": "0955415c-34a6-4799-a90a-9b77a5110bda",
   "metadata": {},
   "outputs": [],
   "source": [
    "class TicTacToe:\n",
    "    def __init__(self):\n",
    "        self.row_count=3\n",
    "        self.column_count=3\n",
    "        self.action_size=self.row_count*self.column_count \n",
    "    def get_initial_state(self):\n",
    "        return np.zeros((self.row_count, self.column_count))\n",
    "    def get_next_state(self, state, action, player):\n",
    "        row = action // self.column_count\n",
    "        column = action % self.column_count\n",
    "        state[row,column] = player\n",
    "        return state\n",
    "    def get_valid_moves(self,state):\n",
    "        return (state.reshape(-1) == 0).astype(np.uint8)\n",
    "    def check_win(self, state, action):\n",
    "        row = action // self.column_count\n",
    "        column = action % self.column_count\n",
    "        player = state[row,column] \n",
    "        return(\n",
    "            np.sum(state[row, :])==player*self.column_count\n",
    "            or np.sum(state[:, column])==player*self.row_count\n",
    "            or np.sum(np.diag(state))==player*self.row_count\n",
    "            or np.sum(np.diag(np.flip(state,axis=0)))==player*self.row_count\n",
    "        )\n",
    "    def get_value_and_terminated(self, state, action):\n",
    "        if self.check_win(state,action):\n",
    "            return 1,True\n",
    "        if np.sum(self.get_valid_moves(state))==0: #for draws\n",
    "            return 0, True\n",
    "        return 0, False\n",
    "    def get_opponent(self,player):\n",
    "        return -player\n",
    "        "
   ]
  },
  {
   "cell_type": "code",
   "execution_count": 8,
   "id": "d788185b-4b40-44ce-8dc9-e0039e9ecfa1",
   "metadata": {},
   "outputs": [
    {
     "name": "stdout",
     "output_type": "stream",
     "text": [
      "[[0. 0. 0.]\n",
      " [0. 0. 0.]\n",
      " [0. 0. 0.]]\n",
      "valid_moves [0, 1, 2, 3, 4, 5, 6, 7, 8]\n"
     ]
    },
    {
     "name": "stdin",
     "output_type": "stream",
     "text": [
      "1: 2\n"
     ]
    },
    {
     "name": "stdout",
     "output_type": "stream",
     "text": [
      "[[0. 0. 1.]\n",
      " [0. 0. 0.]\n",
      " [0. 0. 0.]]\n",
      "valid_moves [0, 1, 3, 4, 5, 6, 7, 8]\n"
     ]
    },
    {
     "name": "stdin",
     "output_type": "stream",
     "text": [
      "-1: 5\n"
     ]
    },
    {
     "name": "stdout",
     "output_type": "stream",
     "text": [
      "[[ 0.  0.  1.]\n",
      " [ 0.  0. -1.]\n",
      " [ 0.  0.  0.]]\n",
      "valid_moves [0, 1, 3, 4, 6, 7, 8]\n"
     ]
    },
    {
     "name": "stdin",
     "output_type": "stream",
     "text": [
      "1: 4\n"
     ]
    },
    {
     "name": "stdout",
     "output_type": "stream",
     "text": [
      "[[ 0.  0.  1.]\n",
      " [ 0.  1. -1.]\n",
      " [ 0.  0.  0.]]\n",
      "valid_moves [0, 1, 3, 6, 7, 8]\n"
     ]
    },
    {
     "name": "stdin",
     "output_type": "stream",
     "text": [
      "-1: 1\n"
     ]
    },
    {
     "name": "stdout",
     "output_type": "stream",
     "text": [
      "[[ 0. -1.  1.]\n",
      " [ 0.  1. -1.]\n",
      " [ 0.  0.  0.]]\n",
      "valid_moves [0, 3, 6, 7, 8]\n"
     ]
    },
    {
     "name": "stdin",
     "output_type": "stream",
     "text": [
      "1: 6\n"
     ]
    },
    {
     "name": "stdout",
     "output_type": "stream",
     "text": [
      "[[ 0. -1.  1.]\n",
      " [ 0.  1. -1.]\n",
      " [ 1.  0.  0.]]\n",
      "1 won\n"
     ]
    }
   ],
   "source": [
    "tictactoe = TicTacToe()\n",
    "player = 1\n",
    "\n",
    "state = tictactoe.get_initial_state()\n",
    "\n",
    "while True:\n",
    "    print(state)\n",
    "    valid_moves=tictactoe.get_valid_moves(state)\n",
    "    print(\"valid_moves\",[ i for i in range(tictactoe.action_size) if valid_moves[i]==1])\n",
    "    action = int(input(f\"{player}:\"))\n",
    "\n",
    "    if valid_moves[action] == 0:\n",
    "        print(\"invalid input\")\n",
    "        continue\n",
    "\n",
    "    state = tictactoe.get_next_state(state,action,player)\n",
    "\n",
    "    value, is_terminated = tictactoe.get_value_and_terminated(state,action)\n",
    "\n",
    "    if is_terminated:\n",
    "        print(state)\n",
    "        if value == 1:\n",
    "            print(player, \"won\")\n",
    "        else:\n",
    "            print(\"draw\")\n",
    "        break\n",
    "    player = tictactoe.get_opponent(player)"
   ]
  },
  {
   "cell_type": "code",
   "execution_count": null,
   "id": "0332c206-df48-4d0b-8d82-0c75901d2e2c",
   "metadata": {},
   "outputs": [],
   "source": []
  },
  {
   "cell_type": "code",
   "execution_count": null,
   "id": "3b314586-53fa-41ce-a9e6-04e43a7fa92b",
   "metadata": {},
   "outputs": [],
   "source": []
  }
 ],
 "metadata": {
  "kernelspec": {
   "display_name": "Python 3 (ipykernel)",
   "language": "python",
   "name": "python3"
  },
  "language_info": {
   "codemirror_mode": {
    "name": "ipython",
    "version": 3
   },
   "file_extension": ".py",
   "mimetype": "text/x-python",
   "name": "python",
   "nbconvert_exporter": "python",
   "pygments_lexer": "ipython3",
   "version": "3.11.5"
  }
 },
 "nbformat": 4,
 "nbformat_minor": 5
}
